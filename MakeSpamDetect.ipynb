{
 "cells": [
  {
   "cell_type": "code",
   "execution_count": 1,
   "id": "1H4VAsomJkCi",
   "metadata": {
    "colab": {
     "base_uri": "https://localhost:8080/"
    },
    "executionInfo": {
     "elapsed": 13846,
     "status": "ok",
     "timestamp": 1717821675496,
     "user": {
      "displayName": "GINA PURNAMA INSANY",
      "userId": "16784212052694610084"
     },
     "user_tz": -420
    },
    "id": "1H4VAsomJkCi",
    "outputId": "59d6a8af-18b3-4098-a133-59a2b0d9c318"
   },
   "outputs": [
    {
     "name": "stdout",
     "output_type": "stream",
     "text": [
      "Requirement already satisfied: streamlit in /home/meyza/anaconda3/lib/python3.11/site-packages (1.30.0)\n",
      "Requirement already satisfied: scikit-learn in /home/meyza/anaconda3/lib/python3.11/site-packages (1.2.2)\n",
      "Requirement already satisfied: pandas in /home/meyza/anaconda3/lib/python3.11/site-packages (2.1.4)\n",
      "Requirement already satisfied: altair<6,>=4.0 in /home/meyza/anaconda3/lib/python3.11/site-packages (from streamlit) (5.0.1)\n",
      "Requirement already satisfied: blinker<2,>=1.0.0 in /home/meyza/anaconda3/lib/python3.11/site-packages (from streamlit) (1.6.2)\n",
      "Requirement already satisfied: cachetools<6,>=4.0 in /home/meyza/anaconda3/lib/python3.11/site-packages (from streamlit) (4.2.2)\n",
      "Requirement already satisfied: click<9,>=7.0 in /home/meyza/anaconda3/lib/python3.11/site-packages (from streamlit) (8.1.7)\n",
      "Requirement already satisfied: importlib-metadata<8,>=1.4 in /home/meyza/anaconda3/lib/python3.11/site-packages (from streamlit) (7.0.1)\n",
      "Requirement already satisfied: numpy<2,>=1.19.3 in /home/meyza/anaconda3/lib/python3.11/site-packages (from streamlit) (1.23.5)\n",
      "Requirement already satisfied: packaging<24,>=16.8 in /home/meyza/anaconda3/lib/python3.11/site-packages (from streamlit) (23.1)\n",
      "Requirement already satisfied: pillow<11,>=7.1.0 in /home/meyza/anaconda3/lib/python3.11/site-packages (from streamlit) (10.2.0)\n",
      "Requirement already satisfied: protobuf<5,>=3.20 in /home/meyza/anaconda3/lib/python3.11/site-packages (from streamlit) (4.25.3)\n",
      "Requirement already satisfied: pyarrow>=6.0 in /home/meyza/anaconda3/lib/python3.11/site-packages (from streamlit) (11.0.0)\n",
      "Requirement already satisfied: python-dateutil<3,>=2.7.3 in /home/meyza/anaconda3/lib/python3.11/site-packages (from streamlit) (2.8.2)\n",
      "Requirement already satisfied: requests<3,>=2.27 in /home/meyza/anaconda3/lib/python3.11/site-packages (from streamlit) (2.31.0)\n",
      "Requirement already satisfied: rich<14,>=10.14.0 in /home/meyza/anaconda3/lib/python3.11/site-packages (from streamlit) (13.3.5)\n",
      "Requirement already satisfied: tenacity<9,>=8.1.0 in /home/meyza/anaconda3/lib/python3.11/site-packages (from streamlit) (8.2.2)\n",
      "Requirement already satisfied: toml<2,>=0.10.1 in /home/meyza/anaconda3/lib/python3.11/site-packages (from streamlit) (0.10.2)\n",
      "Requirement already satisfied: typing-extensions<5,>=4.3.0 in /home/meyza/anaconda3/lib/python3.11/site-packages (from streamlit) (4.9.0)\n",
      "Requirement already satisfied: tzlocal<6,>=1.1 in /home/meyza/anaconda3/lib/python3.11/site-packages (from streamlit) (2.1)\n",
      "Requirement already satisfied: validators<1,>=0.2 in /home/meyza/anaconda3/lib/python3.11/site-packages (from streamlit) (0.18.2)\n",
      "Requirement already satisfied: gitpython!=3.1.19,<4,>=3.0.7 in /home/meyza/anaconda3/lib/python3.11/site-packages (from streamlit) (3.1.37)\n",
      "Requirement already satisfied: pydeck<1,>=0.8.0b4 in /home/meyza/anaconda3/lib/python3.11/site-packages (from streamlit) (0.8.0)\n",
      "Requirement already satisfied: tornado<7,>=6.0.3 in /home/meyza/anaconda3/lib/python3.11/site-packages (from streamlit) (6.3.3)\n",
      "Requirement already satisfied: watchdog>=2.1.5 in /home/meyza/anaconda3/lib/python3.11/site-packages (from streamlit) (2.1.6)\n",
      "Requirement already satisfied: scipy>=1.3.2 in /home/meyza/anaconda3/lib/python3.11/site-packages (from scikit-learn) (1.11.4)\n",
      "Requirement already satisfied: joblib>=1.1.1 in /home/meyza/anaconda3/lib/python3.11/site-packages (from scikit-learn) (1.2.0)\n",
      "Requirement already satisfied: threadpoolctl>=2.0.0 in /home/meyza/anaconda3/lib/python3.11/site-packages (from scikit-learn) (2.2.0)\n",
      "Requirement already satisfied: pytz>=2020.1 in /home/meyza/anaconda3/lib/python3.11/site-packages (from pandas) (2023.3.post1)\n",
      "Requirement already satisfied: tzdata>=2022.1 in /home/meyza/anaconda3/lib/python3.11/site-packages (from pandas) (2023.3)\n",
      "Requirement already satisfied: jinja2 in /home/meyza/anaconda3/lib/python3.11/site-packages (from altair<6,>=4.0->streamlit) (3.1.3)\n",
      "Requirement already satisfied: jsonschema>=3.0 in /home/meyza/anaconda3/lib/python3.11/site-packages (from altair<6,>=4.0->streamlit) (4.19.2)\n",
      "Requirement already satisfied: toolz in /home/meyza/anaconda3/lib/python3.11/site-packages (from altair<6,>=4.0->streamlit) (0.12.0)\n",
      "Requirement already satisfied: gitdb<5,>=4.0.1 in /home/meyza/anaconda3/lib/python3.11/site-packages (from gitpython!=3.1.19,<4,>=3.0.7->streamlit) (4.0.7)\n",
      "Requirement already satisfied: zipp>=0.5 in /home/meyza/anaconda3/lib/python3.11/site-packages (from importlib-metadata<8,>=1.4->streamlit) (3.17.0)\n",
      "Requirement already satisfied: six>=1.5 in /home/meyza/anaconda3/lib/python3.11/site-packages (from python-dateutil<3,>=2.7.3->streamlit) (1.16.0)\n",
      "Requirement already satisfied: charset-normalizer<4,>=2 in /home/meyza/anaconda3/lib/python3.11/site-packages (from requests<3,>=2.27->streamlit) (2.0.4)\n",
      "Requirement already satisfied: idna<4,>=2.5 in /home/meyza/anaconda3/lib/python3.11/site-packages (from requests<3,>=2.27->streamlit) (3.4)\n",
      "Requirement already satisfied: urllib3<3,>=1.21.1 in /home/meyza/anaconda3/lib/python3.11/site-packages (from requests<3,>=2.27->streamlit) (2.0.7)\n",
      "Requirement already satisfied: certifi>=2017.4.17 in /home/meyza/anaconda3/lib/python3.11/site-packages (from requests<3,>=2.27->streamlit) (2024.2.2)\n",
      "Requirement already satisfied: markdown-it-py<3.0.0,>=2.2.0 in /home/meyza/anaconda3/lib/python3.11/site-packages (from rich<14,>=10.14.0->streamlit) (2.2.0)\n",
      "Requirement already satisfied: pygments<3.0.0,>=2.13.0 in /home/meyza/anaconda3/lib/python3.11/site-packages (from rich<14,>=10.14.0->streamlit) (2.15.1)\n",
      "Requirement already satisfied: decorator>=3.4.0 in /home/meyza/anaconda3/lib/python3.11/site-packages (from validators<1,>=0.2->streamlit) (5.1.1)\n",
      "Requirement already satisfied: smmap<5,>=3.0.1 in /home/meyza/anaconda3/lib/python3.11/site-packages (from gitdb<5,>=4.0.1->gitpython!=3.1.19,<4,>=3.0.7->streamlit) (4.0.0)\n",
      "Requirement already satisfied: MarkupSafe>=2.0 in /home/meyza/anaconda3/lib/python3.11/site-packages (from jinja2->altair<6,>=4.0->streamlit) (2.1.3)\n",
      "Requirement already satisfied: attrs>=22.2.0 in /home/meyza/anaconda3/lib/python3.11/site-packages (from jsonschema>=3.0->altair<6,>=4.0->streamlit) (23.1.0)\n",
      "Requirement already satisfied: jsonschema-specifications>=2023.03.6 in /home/meyza/anaconda3/lib/python3.11/site-packages (from jsonschema>=3.0->altair<6,>=4.0->streamlit) (2023.7.1)\n",
      "Requirement already satisfied: referencing>=0.28.4 in /home/meyza/anaconda3/lib/python3.11/site-packages (from jsonschema>=3.0->altair<6,>=4.0->streamlit) (0.30.2)\n",
      "Requirement already satisfied: rpds-py>=0.7.1 in /home/meyza/anaconda3/lib/python3.11/site-packages (from jsonschema>=3.0->altair<6,>=4.0->streamlit) (0.10.6)\n",
      "Requirement already satisfied: mdurl~=0.1 in /home/meyza/anaconda3/lib/python3.11/site-packages (from markdown-it-py<3.0.0,>=2.2.0->rich<14,>=10.14.0->streamlit) (0.1.0)\n"
     ]
    }
   ],
   "source": [
    "!pip install streamlit scikit-learn pandas"
   ]
  },
  {
   "cell_type": "code",
   "execution_count": 2,
   "id": "zWklkjMGKSMy",
   "metadata": {
    "colab": {
     "base_uri": "https://localhost:8080/"
    },
    "executionInfo": {
     "elapsed": 7752,
     "status": "ok",
     "timestamp": 1717821855003,
     "user": {
      "displayName": "GINA PURNAMA INSANY",
      "userId": "16784212052694610084"
     },
     "user_tz": -420
    },
    "id": "zWklkjMGKSMy",
    "outputId": "c4e26364-5be5-4367-952f-709d6d5d9b5b"
   },
   "outputs": [
    {
     "name": "stdout",
     "output_type": "stream",
     "text": [
      "Requirement already satisfied: streamlit in /home/meyza/anaconda3/lib/python3.11/site-packages (1.30.0)\n",
      "Requirement already satisfied: altair<6,>=4.0 in /home/meyza/anaconda3/lib/python3.11/site-packages (from streamlit) (5.0.1)\n",
      "Requirement already satisfied: blinker<2,>=1.0.0 in /home/meyza/anaconda3/lib/python3.11/site-packages (from streamlit) (1.6.2)\n",
      "Requirement already satisfied: cachetools<6,>=4.0 in /home/meyza/anaconda3/lib/python3.11/site-packages (from streamlit) (4.2.2)\n",
      "Requirement already satisfied: click<9,>=7.0 in /home/meyza/anaconda3/lib/python3.11/site-packages (from streamlit) (8.1.7)\n",
      "Requirement already satisfied: importlib-metadata<8,>=1.4 in /home/meyza/anaconda3/lib/python3.11/site-packages (from streamlit) (7.0.1)\n",
      "Requirement already satisfied: numpy<2,>=1.19.3 in /home/meyza/anaconda3/lib/python3.11/site-packages (from streamlit) (1.23.5)\n",
      "Requirement already satisfied: packaging<24,>=16.8 in /home/meyza/anaconda3/lib/python3.11/site-packages (from streamlit) (23.1)\n",
      "Requirement already satisfied: pandas<3,>=1.3.0 in /home/meyza/anaconda3/lib/python3.11/site-packages (from streamlit) (2.1.4)\n",
      "Requirement already satisfied: pillow<11,>=7.1.0 in /home/meyza/anaconda3/lib/python3.11/site-packages (from streamlit) (10.2.0)\n",
      "Requirement already satisfied: protobuf<5,>=3.20 in /home/meyza/anaconda3/lib/python3.11/site-packages (from streamlit) (4.25.3)\n",
      "Requirement already satisfied: pyarrow>=6.0 in /home/meyza/anaconda3/lib/python3.11/site-packages (from streamlit) (11.0.0)\n",
      "Requirement already satisfied: python-dateutil<3,>=2.7.3 in /home/meyza/anaconda3/lib/python3.11/site-packages (from streamlit) (2.8.2)\n",
      "Requirement already satisfied: requests<3,>=2.27 in /home/meyza/anaconda3/lib/python3.11/site-packages (from streamlit) (2.31.0)\n",
      "Requirement already satisfied: rich<14,>=10.14.0 in /home/meyza/anaconda3/lib/python3.11/site-packages (from streamlit) (13.3.5)\n",
      "Requirement already satisfied: tenacity<9,>=8.1.0 in /home/meyza/anaconda3/lib/python3.11/site-packages (from streamlit) (8.2.2)\n",
      "Requirement already satisfied: toml<2,>=0.10.1 in /home/meyza/anaconda3/lib/python3.11/site-packages (from streamlit) (0.10.2)\n",
      "Requirement already satisfied: typing-extensions<5,>=4.3.0 in /home/meyza/anaconda3/lib/python3.11/site-packages (from streamlit) (4.9.0)\n",
      "Requirement already satisfied: tzlocal<6,>=1.1 in /home/meyza/anaconda3/lib/python3.11/site-packages (from streamlit) (2.1)\n",
      "Requirement already satisfied: validators<1,>=0.2 in /home/meyza/anaconda3/lib/python3.11/site-packages (from streamlit) (0.18.2)\n",
      "Requirement already satisfied: gitpython!=3.1.19,<4,>=3.0.7 in /home/meyza/anaconda3/lib/python3.11/site-packages (from streamlit) (3.1.37)\n",
      "Requirement already satisfied: pydeck<1,>=0.8.0b4 in /home/meyza/anaconda3/lib/python3.11/site-packages (from streamlit) (0.8.0)\n",
      "Requirement already satisfied: tornado<7,>=6.0.3 in /home/meyza/anaconda3/lib/python3.11/site-packages (from streamlit) (6.3.3)\n",
      "Requirement already satisfied: watchdog>=2.1.5 in /home/meyza/anaconda3/lib/python3.11/site-packages (from streamlit) (2.1.6)\n",
      "Requirement already satisfied: jinja2 in /home/meyza/anaconda3/lib/python3.11/site-packages (from altair<6,>=4.0->streamlit) (3.1.3)\n",
      "Requirement already satisfied: jsonschema>=3.0 in /home/meyza/anaconda3/lib/python3.11/site-packages (from altair<6,>=4.0->streamlit) (4.19.2)\n",
      "Requirement already satisfied: toolz in /home/meyza/anaconda3/lib/python3.11/site-packages (from altair<6,>=4.0->streamlit) (0.12.0)\n",
      "Requirement already satisfied: gitdb<5,>=4.0.1 in /home/meyza/anaconda3/lib/python3.11/site-packages (from gitpython!=3.1.19,<4,>=3.0.7->streamlit) (4.0.7)\n",
      "Requirement already satisfied: zipp>=0.5 in /home/meyza/anaconda3/lib/python3.11/site-packages (from importlib-metadata<8,>=1.4->streamlit) (3.17.0)\n",
      "Requirement already satisfied: pytz>=2020.1 in /home/meyza/anaconda3/lib/python3.11/site-packages (from pandas<3,>=1.3.0->streamlit) (2023.3.post1)\n",
      "Requirement already satisfied: tzdata>=2022.1 in /home/meyza/anaconda3/lib/python3.11/site-packages (from pandas<3,>=1.3.0->streamlit) (2023.3)\n",
      "Requirement already satisfied: six>=1.5 in /home/meyza/anaconda3/lib/python3.11/site-packages (from python-dateutil<3,>=2.7.3->streamlit) (1.16.0)\n",
      "Requirement already satisfied: charset-normalizer<4,>=2 in /home/meyza/anaconda3/lib/python3.11/site-packages (from requests<3,>=2.27->streamlit) (2.0.4)\n",
      "Requirement already satisfied: idna<4,>=2.5 in /home/meyza/anaconda3/lib/python3.11/site-packages (from requests<3,>=2.27->streamlit) (3.4)\n",
      "Requirement already satisfied: urllib3<3,>=1.21.1 in /home/meyza/anaconda3/lib/python3.11/site-packages (from requests<3,>=2.27->streamlit) (2.0.7)\n",
      "Requirement already satisfied: certifi>=2017.4.17 in /home/meyza/anaconda3/lib/python3.11/site-packages (from requests<3,>=2.27->streamlit) (2024.2.2)\n",
      "Requirement already satisfied: markdown-it-py<3.0.0,>=2.2.0 in /home/meyza/anaconda3/lib/python3.11/site-packages (from rich<14,>=10.14.0->streamlit) (2.2.0)\n",
      "Requirement already satisfied: pygments<3.0.0,>=2.13.0 in /home/meyza/anaconda3/lib/python3.11/site-packages (from rich<14,>=10.14.0->streamlit) (2.15.1)\n",
      "Requirement already satisfied: decorator>=3.4.0 in /home/meyza/anaconda3/lib/python3.11/site-packages (from validators<1,>=0.2->streamlit) (5.1.1)\n",
      "Requirement already satisfied: smmap<5,>=3.0.1 in /home/meyza/anaconda3/lib/python3.11/site-packages (from gitdb<5,>=4.0.1->gitpython!=3.1.19,<4,>=3.0.7->streamlit) (4.0.0)\n",
      "Requirement already satisfied: MarkupSafe>=2.0 in /home/meyza/anaconda3/lib/python3.11/site-packages (from jinja2->altair<6,>=4.0->streamlit) (2.1.3)\n",
      "Requirement already satisfied: attrs>=22.2.0 in /home/meyza/anaconda3/lib/python3.11/site-packages (from jsonschema>=3.0->altair<6,>=4.0->streamlit) (23.1.0)\n",
      "Requirement already satisfied: jsonschema-specifications>=2023.03.6 in /home/meyza/anaconda3/lib/python3.11/site-packages (from jsonschema>=3.0->altair<6,>=4.0->streamlit) (2023.7.1)\n",
      "Requirement already satisfied: referencing>=0.28.4 in /home/meyza/anaconda3/lib/python3.11/site-packages (from jsonschema>=3.0->altair<6,>=4.0->streamlit) (0.30.2)\n",
      "Requirement already satisfied: rpds-py>=0.7.1 in /home/meyza/anaconda3/lib/python3.11/site-packages (from jsonschema>=3.0->altair<6,>=4.0->streamlit) (0.10.6)\n",
      "Requirement already satisfied: mdurl~=0.1 in /home/meyza/anaconda3/lib/python3.11/site-packages (from markdown-it-py<3.0.0,>=2.2.0->rich<14,>=10.14.0->streamlit) (0.1.0)\n"
     ]
    }
   ],
   "source": [
    "!pip install streamlit"
   ]
  },
  {
   "cell_type": "code",
   "execution_count": 3,
   "id": "d49d4cc9",
   "metadata": {
    "colab": {
     "base_uri": "https://localhost:8080/"
    },
    "executionInfo": {
     "elapsed": 16,
     "status": "ok",
     "timestamp": 1717821527756,
     "user": {
      "displayName": "GINA PURNAMA INSANY",
      "userId": "16784212052694610084"
     },
     "user_tz": -420
    },
    "id": "d49d4cc9",
    "outputId": "7eec1568-8bbe-4094-bf15-b56270b439b3"
   },
   "outputs": [
    {
     "name": "stdout",
     "output_type": "stream",
     "text": [
      "Overwriting SpamDetect.py\n"
     ]
    }
   ],
   "source": [
    "%%writefile SpamDetect.py\n",
    "import streamlit as st\n",
    "import joblib\n",
    "\n",
    "# Memuat model dan vectorizer\n",
    "model = joblib.load('text_classifier_model.pkl')\n",
    "vectorizer = joblib.load('vectorizer.pkl')\n",
    "\n",
    "# Streamlit UI\n",
    "st.title('SMS Spam Classifier')\n",
    "st.write('Enter an SMS message to classify it as spam or ham.')\n",
    "\n",
    "\n",
    "st.write(\"\n",
    "This app predicts Spam or Ham Message\n",
    "\")\n",
    "\n",
    "# Input teks dari pengguna\n",
    "user_input = st.text_area('Enter SMS message here:')\n",
    "\n",
    "# Tombol untuk memicu klasifikasi\n",
    "if st.button('Classify'):\n",
    "    # Transform input text to match the training data format\n",
    "    user_input_transformed = vectorizer.transform([user_input])\n",
    "\n",
    "    # Make prediction\n",
    "    prediction = model.predict(user_input_transformed)\n",
    "    prediction_label = 'Spam' if prediction[0] == 1 else 'Ham'\n",
    "\n",
    "    st.write('Predicted class:', prediction_label)\n"
   ]
  },
  {
   "cell_type": "code",
   "execution_count": 4,
   "id": "139b11ad",
   "metadata": {
    "colab": {
     "base_uri": "https://localhost:8080/"
    },
    "executionInfo": {
     "elapsed": 1392,
     "status": "ok",
     "timestamp": 1717821884393,
     "user": {
      "displayName": "GINA PURNAMA INSANY",
      "userId": "16784212052694610084"
     },
     "user_tz": -420
    },
    "id": "139b11ad",
    "outputId": "3ff692f2-a2a0-4789-a63c-d9d591a88634"
   },
   "outputs": [
    {
     "name": "stdout",
     "output_type": "stream",
     "text": [
      "Requirement already satisfied: joblib==1.2.0 in /home/meyza/anaconda3/lib/python3.11/site-packages (from -r requirements.txt (line 1)) (1.2.0)\n",
      "Collecting pandas==2.0.3 (from -r requirements.txt (line 2))\n",
      "  Using cached pandas-2.0.3-cp311-cp311-manylinux_2_17_x86_64.manylinux2014_x86_64.whl.metadata (18 kB)\n",
      "Collecting scikit-learn==1.3.0 (from -r requirements.txt (line 3))\n",
      "  Using cached scikit_learn-1.3.0-cp311-cp311-manylinux_2_17_x86_64.manylinux2014_x86_64.whl.metadata (11 kB)\n",
      "Requirement already satisfied: streamlit==1.30.0 in /home/meyza/anaconda3/lib/python3.11/site-packages (from -r requirements.txt (line 4)) (1.30.0)\n",
      "Requirement already satisfied: python-dateutil>=2.8.2 in /home/meyza/anaconda3/lib/python3.11/site-packages (from pandas==2.0.3->-r requirements.txt (line 2)) (2.8.2)\n",
      "Requirement already satisfied: pytz>=2020.1 in /home/meyza/anaconda3/lib/python3.11/site-packages (from pandas==2.0.3->-r requirements.txt (line 2)) (2023.3.post1)\n",
      "Requirement already satisfied: tzdata>=2022.1 in /home/meyza/anaconda3/lib/python3.11/site-packages (from pandas==2.0.3->-r requirements.txt (line 2)) (2023.3)\n",
      "Requirement already satisfied: numpy>=1.21.0 in /home/meyza/anaconda3/lib/python3.11/site-packages (from pandas==2.0.3->-r requirements.txt (line 2)) (1.23.5)\n",
      "Requirement already satisfied: scipy>=1.5.0 in /home/meyza/anaconda3/lib/python3.11/site-packages (from scikit-learn==1.3.0->-r requirements.txt (line 3)) (1.11.4)\n",
      "Requirement already satisfied: threadpoolctl>=2.0.0 in /home/meyza/anaconda3/lib/python3.11/site-packages (from scikit-learn==1.3.0->-r requirements.txt (line 3)) (2.2.0)\n",
      "Requirement already satisfied: altair<6,>=4.0 in /home/meyza/anaconda3/lib/python3.11/site-packages (from streamlit==1.30.0->-r requirements.txt (line 4)) (5.0.1)\n",
      "Requirement already satisfied: blinker<2,>=1.0.0 in /home/meyza/anaconda3/lib/python3.11/site-packages (from streamlit==1.30.0->-r requirements.txt (line 4)) (1.6.2)\n",
      "Requirement already satisfied: cachetools<6,>=4.0 in /home/meyza/anaconda3/lib/python3.11/site-packages (from streamlit==1.30.0->-r requirements.txt (line 4)) (4.2.2)\n",
      "Requirement already satisfied: click<9,>=7.0 in /home/meyza/anaconda3/lib/python3.11/site-packages (from streamlit==1.30.0->-r requirements.txt (line 4)) (8.1.7)\n",
      "Requirement already satisfied: importlib-metadata<8,>=1.4 in /home/meyza/anaconda3/lib/python3.11/site-packages (from streamlit==1.30.0->-r requirements.txt (line 4)) (7.0.1)\n",
      "Requirement already satisfied: packaging<24,>=16.8 in /home/meyza/anaconda3/lib/python3.11/site-packages (from streamlit==1.30.0->-r requirements.txt (line 4)) (23.1)\n",
      "Requirement already satisfied: pillow<11,>=7.1.0 in /home/meyza/anaconda3/lib/python3.11/site-packages (from streamlit==1.30.0->-r requirements.txt (line 4)) (10.2.0)\n",
      "Requirement already satisfied: protobuf<5,>=3.20 in /home/meyza/anaconda3/lib/python3.11/site-packages (from streamlit==1.30.0->-r requirements.txt (line 4)) (4.25.3)\n",
      "Requirement already satisfied: pyarrow>=6.0 in /home/meyza/anaconda3/lib/python3.11/site-packages (from streamlit==1.30.0->-r requirements.txt (line 4)) (11.0.0)\n",
      "Requirement already satisfied: requests<3,>=2.27 in /home/meyza/anaconda3/lib/python3.11/site-packages (from streamlit==1.30.0->-r requirements.txt (line 4)) (2.31.0)\n",
      "Requirement already satisfied: rich<14,>=10.14.0 in /home/meyza/anaconda3/lib/python3.11/site-packages (from streamlit==1.30.0->-r requirements.txt (line 4)) (13.3.5)\n",
      "Requirement already satisfied: tenacity<9,>=8.1.0 in /home/meyza/anaconda3/lib/python3.11/site-packages (from streamlit==1.30.0->-r requirements.txt (line 4)) (8.2.2)\n",
      "Requirement already satisfied: toml<2,>=0.10.1 in /home/meyza/anaconda3/lib/python3.11/site-packages (from streamlit==1.30.0->-r requirements.txt (line 4)) (0.10.2)\n",
      "Requirement already satisfied: typing-extensions<5,>=4.3.0 in /home/meyza/anaconda3/lib/python3.11/site-packages (from streamlit==1.30.0->-r requirements.txt (line 4)) (4.9.0)\n",
      "Requirement already satisfied: tzlocal<6,>=1.1 in /home/meyza/anaconda3/lib/python3.11/site-packages (from streamlit==1.30.0->-r requirements.txt (line 4)) (2.1)\n",
      "Requirement already satisfied: validators<1,>=0.2 in /home/meyza/anaconda3/lib/python3.11/site-packages (from streamlit==1.30.0->-r requirements.txt (line 4)) (0.18.2)\n",
      "Requirement already satisfied: gitpython!=3.1.19,<4,>=3.0.7 in /home/meyza/anaconda3/lib/python3.11/site-packages (from streamlit==1.30.0->-r requirements.txt (line 4)) (3.1.37)\n",
      "Requirement already satisfied: pydeck<1,>=0.8.0b4 in /home/meyza/anaconda3/lib/python3.11/site-packages (from streamlit==1.30.0->-r requirements.txt (line 4)) (0.8.0)\n",
      "Requirement already satisfied: tornado<7,>=6.0.3 in /home/meyza/anaconda3/lib/python3.11/site-packages (from streamlit==1.30.0->-r requirements.txt (line 4)) (6.3.3)\n",
      "Requirement already satisfied: watchdog>=2.1.5 in /home/meyza/anaconda3/lib/python3.11/site-packages (from streamlit==1.30.0->-r requirements.txt (line 4)) (2.1.6)\n",
      "Requirement already satisfied: jinja2 in /home/meyza/anaconda3/lib/python3.11/site-packages (from altair<6,>=4.0->streamlit==1.30.0->-r requirements.txt (line 4)) (3.1.3)\n",
      "Requirement already satisfied: jsonschema>=3.0 in /home/meyza/anaconda3/lib/python3.11/site-packages (from altair<6,>=4.0->streamlit==1.30.0->-r requirements.txt (line 4)) (4.19.2)\n",
      "Requirement already satisfied: toolz in /home/meyza/anaconda3/lib/python3.11/site-packages (from altair<6,>=4.0->streamlit==1.30.0->-r requirements.txt (line 4)) (0.12.0)\n",
      "Requirement already satisfied: gitdb<5,>=4.0.1 in /home/meyza/anaconda3/lib/python3.11/site-packages (from gitpython!=3.1.19,<4,>=3.0.7->streamlit==1.30.0->-r requirements.txt (line 4)) (4.0.7)\n",
      "Requirement already satisfied: zipp>=0.5 in /home/meyza/anaconda3/lib/python3.11/site-packages (from importlib-metadata<8,>=1.4->streamlit==1.30.0->-r requirements.txt (line 4)) (3.17.0)\n",
      "Requirement already satisfied: six>=1.5 in /home/meyza/anaconda3/lib/python3.11/site-packages (from python-dateutil>=2.8.2->pandas==2.0.3->-r requirements.txt (line 2)) (1.16.0)\n",
      "Requirement already satisfied: charset-normalizer<4,>=2 in /home/meyza/anaconda3/lib/python3.11/site-packages (from requests<3,>=2.27->streamlit==1.30.0->-r requirements.txt (line 4)) (2.0.4)\n",
      "Requirement already satisfied: idna<4,>=2.5 in /home/meyza/anaconda3/lib/python3.11/site-packages (from requests<3,>=2.27->streamlit==1.30.0->-r requirements.txt (line 4)) (3.4)\n",
      "Requirement already satisfied: urllib3<3,>=1.21.1 in /home/meyza/anaconda3/lib/python3.11/site-packages (from requests<3,>=2.27->streamlit==1.30.0->-r requirements.txt (line 4)) (2.0.7)\n",
      "Requirement already satisfied: certifi>=2017.4.17 in /home/meyza/anaconda3/lib/python3.11/site-packages (from requests<3,>=2.27->streamlit==1.30.0->-r requirements.txt (line 4)) (2024.2.2)\n",
      "Requirement already satisfied: markdown-it-py<3.0.0,>=2.2.0 in /home/meyza/anaconda3/lib/python3.11/site-packages (from rich<14,>=10.14.0->streamlit==1.30.0->-r requirements.txt (line 4)) (2.2.0)\n",
      "Requirement already satisfied: pygments<3.0.0,>=2.13.0 in /home/meyza/anaconda3/lib/python3.11/site-packages (from rich<14,>=10.14.0->streamlit==1.30.0->-r requirements.txt (line 4)) (2.15.1)\n",
      "Requirement already satisfied: decorator>=3.4.0 in /home/meyza/anaconda3/lib/python3.11/site-packages (from validators<1,>=0.2->streamlit==1.30.0->-r requirements.txt (line 4)) (5.1.1)\n",
      "Requirement already satisfied: smmap<5,>=3.0.1 in /home/meyza/anaconda3/lib/python3.11/site-packages (from gitdb<5,>=4.0.1->gitpython!=3.1.19,<4,>=3.0.7->streamlit==1.30.0->-r requirements.txt (line 4)) (4.0.0)\n",
      "Requirement already satisfied: MarkupSafe>=2.0 in /home/meyza/anaconda3/lib/python3.11/site-packages (from jinja2->altair<6,>=4.0->streamlit==1.30.0->-r requirements.txt (line 4)) (2.1.3)\n",
      "Requirement already satisfied: attrs>=22.2.0 in /home/meyza/anaconda3/lib/python3.11/site-packages (from jsonschema>=3.0->altair<6,>=4.0->streamlit==1.30.0->-r requirements.txt (line 4)) (23.1.0)\n",
      "Requirement already satisfied: jsonschema-specifications>=2023.03.6 in /home/meyza/anaconda3/lib/python3.11/site-packages (from jsonschema>=3.0->altair<6,>=4.0->streamlit==1.30.0->-r requirements.txt (line 4)) (2023.7.1)\n",
      "Requirement already satisfied: referencing>=0.28.4 in /home/meyza/anaconda3/lib/python3.11/site-packages (from jsonschema>=3.0->altair<6,>=4.0->streamlit==1.30.0->-r requirements.txt (line 4)) (0.30.2)\n",
      "Requirement already satisfied: rpds-py>=0.7.1 in /home/meyza/anaconda3/lib/python3.11/site-packages (from jsonschema>=3.0->altair<6,>=4.0->streamlit==1.30.0->-r requirements.txt (line 4)) (0.10.6)\n",
      "Requirement already satisfied: mdurl~=0.1 in /home/meyza/anaconda3/lib/python3.11/site-packages (from markdown-it-py<3.0.0,>=2.2.0->rich<14,>=10.14.0->streamlit==1.30.0->-r requirements.txt (line 4)) (0.1.0)\n",
      "Using cached pandas-2.0.3-cp311-cp311-manylinux_2_17_x86_64.manylinux2014_x86_64.whl (12.2 MB)\n",
      "Using cached scikit_learn-1.3.0-cp311-cp311-manylinux_2_17_x86_64.manylinux2014_x86_64.whl (10.9 MB)\n",
      "Installing collected packages: scikit-learn, pandas\n",
      "  Attempting uninstall: scikit-learn\n",
      "    Found existing installation: scikit-learn 1.2.2\n",
      "    Uninstalling scikit-learn-1.2.2:\n",
      "      Successfully uninstalled scikit-learn-1.2.2\n",
      "  Attempting uninstall: pandas\n",
      "    Found existing installation: pandas 2.1.4\n",
      "    Uninstalling pandas-2.1.4:\n",
      "      Successfully uninstalled pandas-2.1.4\n",
      "Successfully installed pandas-2.0.3 scikit-learn-1.3.0\n"
     ]
    }
   ],
   "source": [
    "#save in requirements.txt libraries used\n",
    "!pip install -r requirements.txt\n"
   ]
  },
  {
   "cell_type": "code",
   "execution_count": null,
   "id": "uGqaMtSsJb1e",
   "metadata": {
    "id": "uGqaMtSsJb1e"
   },
   "outputs": [],
   "source": []
  },
  {
   "cell_type": "code",
   "execution_count": null,
   "id": "e4b9d47b",
   "metadata": {
    "id": "e4b9d47b"
   },
   "outputs": [],
   "source": []
  }
 ],
 "metadata": {
  "colab": {
   "provenance": []
  },
  "kernelspec": {
   "display_name": "Python 3 (ipykernel)",
   "language": "python",
   "name": "python3"
  },
  "language_info": {
   "codemirror_mode": {
    "name": "ipython",
    "version": 3
   },
   "file_extension": ".py",
   "mimetype": "text/x-python",
   "name": "python",
   "nbconvert_exporter": "python",
   "pygments_lexer": "ipython3",
   "version": "3.11.5"
  }
 },
 "nbformat": 4,
 "nbformat_minor": 5
}
